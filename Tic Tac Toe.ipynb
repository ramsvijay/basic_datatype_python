{
 "cells": [
  {
   "cell_type": "code",
   "execution_count": 2,
   "metadata": {},
   "outputs": [],
   "source": [
    "def display_board(board):\n",
    "    print(''+board[7]+'|'+ board[8]+'|'+ board[9])\n",
    "    print('--------------')\n",
    "    print(''+board[4]+'|'+ board[5]+'|'+ board[6])\n",
    "    print('--------------')\n",
    "    print(''+board[1]+'|'+ board[2]+'|'+ board[3])"
   ]
  },
  {
   "cell_type": "code",
   "execution_count": 20,
   "metadata": {},
   "outputs": [],
   "source": [
    "board = ['O','X','O','X','O','X','O','X','O']"
   ]
  },
  {
   "cell_type": "code",
   "execution_count": 8,
   "metadata": {},
   "outputs": [
    {
     "name": "stdout",
     "output_type": "stream",
     "text": [
      "x|o|o\n",
      "--------------\n",
      "o|x|o\n",
      "--------------\n",
      "x|o|x\n"
     ]
    }
   ],
   "source": [
    "display_board(board)"
   ]
  },
  {
   "cell_type": "code",
   "execution_count": 3,
   "metadata": {},
   "outputs": [],
   "source": [
    "def player_input():\n",
    "    marker = ''\n",
    "    while not (marker == 'X' or marker == 'O'):\n",
    "        marker =input('player one : Please enter your marker X or O')\n",
    "    if marker =='X':\n",
    "        return ('X','O')\n",
    "    else:\n",
    "        return ('O','X')"
   ]
  },
  {
   "cell_type": "code",
   "execution_count": 10,
   "metadata": {},
   "outputs": [
    {
     "name": "stdout",
     "output_type": "stream",
     "text": [
      "player one : Please enter your marker X or Og\n",
      "player one : Please enter your marker X or Oo\n",
      "player one : Please enter your marker X or OO\n"
     ]
    },
    {
     "data": {
      "text/plain": [
       "('O', 'X')"
      ]
     },
     "execution_count": 10,
     "metadata": {},
     "output_type": "execute_result"
    }
   ],
   "source": [
    "player_input()"
   ]
  },
  {
   "cell_type": "code",
   "execution_count": 11,
   "metadata": {},
   "outputs": [],
   "source": [
    "#Step 3 - Placing marker"
   ]
  },
  {
   "cell_type": "code",
   "execution_count": 4,
   "metadata": {},
   "outputs": [],
   "source": [
    "def place_marker(board,marker,position):\n",
    "    board[position] = marker;"
   ]
  },
  {
   "cell_type": "code",
   "execution_count": 21,
   "metadata": {},
   "outputs": [
    {
     "data": {
      "text/plain": [
       "['O', 'X', 'O', 'X', 'O', 'X', 'O', 'X', 'O']"
      ]
     },
     "execution_count": 21,
     "metadata": {},
     "output_type": "execute_result"
    }
   ],
   "source": [
    "board"
   ]
  },
  {
   "cell_type": "code",
   "execution_count": 14,
   "metadata": {},
   "outputs": [],
   "source": [
    "place_marker(board,'X',0)"
   ]
  },
  {
   "cell_type": "code",
   "execution_count": 28,
   "metadata": {},
   "outputs": [
    {
     "data": {
      "text/plain": [
       "['O', 'X', 'O', 'X', 'O', 'X', 'O', 'X', 'O']"
      ]
     },
     "execution_count": 28,
     "metadata": {},
     "output_type": "execute_result"
    }
   ],
   "source": [
    "board"
   ]
  },
  {
   "cell_type": "code",
   "execution_count": 22,
   "metadata": {},
   "outputs": [],
   "source": [
    "#Step 4 - check if we have any one winner"
   ]
  },
  {
   "cell_type": "code",
   "execution_count": 13,
   "metadata": {},
   "outputs": [],
   "source": [
    "def win_check(board,mark):\n",
    "    my_bool = ((board[1] ==mark and board[2] ==mark and board[3] ==mark) or \n",
    "              (board[4] ==mark and board[5] ==mark and board[6] ==mark) or \n",
    "              (board[7] ==mark and board[8] ==mark and board[9] ==mark) or \n",
    "              (board[7] ==mark and board[4] ==mark and board[1] ==mark) or \n",
    "              (board[8] ==mark and board[5] ==mark and board[2] ==mark) or \n",
    "              (board[9] ==mark and board[6] ==mark and board[3] ==mark) or \n",
    "              (board[7] ==mark and board[5] ==mark and board[3] ==mark) or\n",
    "              (board[9] ==mark and board[5] ==mark and board[1] ==mark) \n",
    "              )\n",
    "    return my_bool"
   ]
  },
  {
   "cell_type": "code",
   "execution_count": 33,
   "metadata": {},
   "outputs": [
    {
     "data": {
      "text/plain": [
       "False"
      ]
     },
     "execution_count": 33,
     "metadata": {},
     "output_type": "execute_result"
    }
   ],
   "source": [
    "win_check(board,'X')"
   ]
  },
  {
   "cell_type": "code",
   "execution_count": 6,
   "metadata": {},
   "outputs": [],
   "source": [
    "import random\n",
    "\n",
    "def choose_first():\n",
    "    if random.randint(1,2) == 1:\n",
    "        return 'Player 1'\n",
    "    else:\n",
    "        return 'Player 2'"
   ]
  },
  {
   "cell_type": "code",
   "execution_count": 35,
   "metadata": {},
   "outputs": [
    {
     "data": {
      "text/plain": [
       "'player 1'"
      ]
     },
     "execution_count": 35,
     "metadata": {},
     "output_type": "execute_result"
    }
   ],
   "source": [
    "choose_first()"
   ]
  },
  {
   "cell_type": "code",
   "execution_count": 36,
   "metadata": {},
   "outputs": [],
   "source": [
    "#Particular place empty"
   ]
  },
  {
   "cell_type": "code",
   "execution_count": 7,
   "metadata": {},
   "outputs": [],
   "source": [
    "def  space_check(board,position):\n",
    "    return board[position] == ' '"
   ]
  },
  {
   "cell_type": "code",
   "execution_count": 39,
   "metadata": {},
   "outputs": [],
   "source": [
    "# is check board full or not"
   ]
  },
  {
   "cell_type": "code",
   "execution_count": 14,
   "metadata": {},
   "outputs": [],
   "source": [
    "def full_board_check(board):\n",
    "    for i in range(1,10):\n",
    "        if(space_check(board,i)):\n",
    "            return False\n",
    "    return True    "
   ]
  },
  {
   "cell_type": "code",
   "execution_count": null,
   "metadata": {},
   "outputs": [],
   "source": [
    "full_board_check(board)"
   ]
  },
  {
   "cell_type": "code",
   "execution_count": 50,
   "metadata": {},
   "outputs": [],
   "source": [
    "#Tale Players next pos. and validate that"
   ]
  },
  {
   "cell_type": "code",
   "execution_count": 15,
   "metadata": {},
   "outputs": [],
   "source": [
    "def next_player_choice(board):\n",
    "    position = 0\n",
    "    while position not in  [1,2,3,4,5,6,7,8,9] or not space_check(board,position):\n",
    "        position = int(input(\"Enter the position (0,8) :\"))\n",
    "    return position \n",
    "    "
   ]
  },
  {
   "cell_type": "code",
   "execution_count": null,
   "metadata": {},
   "outputs": [
    {
     "name": "stdout",
     "output_type": "stream",
     "text": [
      "Enter the position (0,8) :2\n",
      "Enter the position (0,8) :9\n",
      "Enter the position (0,8) :9\n",
      "Enter the position (0,8) :2\n",
      "Enter the position (0,8) :1\n"
     ]
    }
   ],
   "source": [
    "next_player_choice(board)"
   ]
  },
  {
   "cell_type": "code",
   "execution_count": null,
   "metadata": {},
   "outputs": [],
   "source": [
    "#Play Again or Not"
   ]
  },
  {
   "cell_type": "code",
   "execution_count": 10,
   "metadata": {},
   "outputs": [],
   "source": [
    "def playagain():\n",
    "    return input('Do you want play again ?').lower().startswith('y')"
   ]
  },
  {
   "cell_type": "code",
   "execution_count": null,
   "metadata": {},
   "outputs": [],
   "source": [
    "playagain()\n",
    "def display_board(board):\n",
    "    print(''+board[7]+'|'+ board[8]+'|'+ board[9])\n",
    "    print('--------------')\n",
    "    print(''+board[4]+'|'+ board[5]+'|'+ board[6])\n",
    "    print('--------------')\n",
    "    print(''+board[1]+'|'+ board[2]+'|'+ board[3])\n",
    "board = ['O','X','O','X','O','X','O','X','O']\n",
    "display_board(board)\n",
    "x|o|o\n",
    "--------------\n",
    "o|x|o\n",
    "--------------\n",
    "x|o|x\n",
    "def player_input():\n",
    "    marker = ''\n",
    "    while not (marker == 'X' or marker == 'O'):\n",
    "        marker =input('player one : Please enter your marker X or O')\n",
    "    if marker =='X':\n",
    "        return ('X','O')\n",
    "    else:\n",
    "        return ('O','X')\n",
    "player_input()\n",
    "player one : Please enter your marker X or Og\n",
    "player one : Please enter your marker X or Oo\n",
    "player one : Please enter your marker X or OO\n",
    "('O', 'X')\n",
    "#Step 3 - Placing marker\n",
    "def place_marker(board,marker,position):\n",
    "    board[position] = marker;\n",
    "board\n",
    "['O', 'X', 'O', 'X', 'O', 'X', 'O', 'X', 'O']\n",
    "place_marker(board,'X',0)\n",
    "board\n",
    "['O', 'X', 'O', 'X', 'O', 'X', 'O', 'X', 'O']\n",
    "#Step 4 - check if we have any one winner\n",
    "9\n",
    "def win_check(board,mark):\n",
    "    my_bool = ((board[1] ==mark and board[2] ==mark and board[3] ==mark) or \n",
    "              (board[4] ==mark and board[5] ==mark and board[6] ==mark) or \n",
    "              (board[7] ==mark and board[8] ==mark and board[9] ==mark) or \n",
    "              (board[7] ==mark and board[4] ==mark and board[1] ==mark) or \n",
    "              (board[8] ==mark and board[5] ==mark and board[2] ==mark) or \n",
    "              (board[9] ==mark and board[6] ==mark and board[3] ==mark) or \n",
    "              (board[7] ==mark and board[5] ==mark and board[3] ==mark) or\n",
    "              (board[9] ==mark and board[5] ==mark and board[1] ==mark) \n",
    "              )\n",
    "    return my_bool\n",
    "win_check(board,'X')\n",
    "False\n",
    "import random\n",
    "​\n",
    "def choose_first():\n",
    "    if random.randint(1,2) == 1:\n",
    "        return 'Player 1'\n",
    "    else:\n",
    "        return 'Player 2'\n",
    "choose_first()\n",
    "'player 1'\n",
    "#Particular place empty\n",
    "def  space_check(board,position):\n",
    "    return board[position] == ' '\n",
    "# is check board full or not\n",
    "def full_board_check(board):\n",
    "    for i in range(1,10):\n",
    "        if(space_check(board,i)):\n",
    "            return False\n",
    "    return True    \n",
    "full_board_check(board)\n",
    "#Tale Players next pos. and validate that\n",
    ",9\n",
    "def next_player_choice(board):\n",
    "    position = 0\n",
    "    while position not in  [1,2,3,4,5,6,7,8,9] or not space_check(board,position):\n",
    "        position = int(input(\"Enter the position (0,8) :\"))\n",
    "    return position \n",
    "    \n",
    "next_player_choice(board)\n",
    "Enter the position (0,8) :2\n",
    "Enter the position (0,8) :9\n",
    "Enter the position (0,8) :9\n",
    "Enter the position (0,8) :2\n",
    "Enter the position (0,8) :1\n",
    "#Play Again or Not\n",
    "def playagain():\n",
    "    return input('Do you want play again ?').lower().startswith('y')\n",
    "playagain()\n",
    "def play_again():\n",
    "    return input('Do you want play again ?').lower().startswith('y')\n",
    "play_again()\n",
    "# Final Assembling\n",
    "print(\"Welcome to Ram's Tic Tac Toe \")\n",
    "​\n",
    "while True: \n",
    "    newBoard = [' ']*10\n",
    "    player1_marker,player2_marker = player_input()\n",
    "    turn = choose_first()\n",
    "    print(turn+ ' Will go first in this game')\n",
    "    \n",
    "    play_game = input(\"Are you ready ? Yes or No\")\n",
    "    \n",
    "    if play_game.lower()[0]=='y':\n",
    "        game_on = True\n",
    "    else: \n",
    "        game_on = False\n",
    "        \n",
    "    while game_on: \n",
    "        if turn == 'Player 1':\n",
    "            display_board(newBoard)\n",
    "            position = next_player_choice(newBoard)\n",
    "            place_marker(newBoard,player1_marker, position)\n",
    "            \n",
    "            if win_check(newBoard,player1_marker):\n",
    "                display_board(newBoard)\n",
    "                print('Congrats! Player 1 have  Won the Game!')\n",
    "                game_on=False\n",
    "            else:\n",
    "                if full_board_check(newBoard):\n",
    "                    display_board(newBoard)\n",
    "                    print('Game has been drawn')\n",
    "                    break\n",
    "                else:\n",
    "                    turn = 'Player 2'\n",
    "        else:\n",
    "            display_board(newBoard)\n",
    "            position = next_player_choice(newBoard)\n",
    "            place_marker(newBoard,player2_marker, position)\n",
    "            \n",
    "            if win_check(newBoard,player2_marker):\n",
    "                display_board(newBoard)\n",
    "                print('Congrats! player 2 have  Won the Game!')\n",
    "                game_on=False\n",
    "            else:\n",
    "                if full_board_check(newBoard):\n",
    "                    display_board(newBoard)\n",
    "                    print('Game has been drawn')\n",
    "                    break\n",
    "                else:\n",
    "                    turn = 'Player 1'\n",
    "                    \n",
    "    if not playagain():\n",
    "        break\n",
    "            \n",
    "Welcome to Ram's Tic Tac Toe \n",
    "player one : Please enter your marker X or OX\n",
    "Player 2 Will go first in this game\n",
    "Are you ready ? Yes or NoY\n",
    " | | \n",
    "--------------\n",
    " | | \n",
    "--------------\n",
    " | | \n",
    "Enter the position (0,8) :9\n",
    " | |O\n",
    "--------------\n",
    " | | \n",
    "--------------\n",
    " | | \n",
    "Enter the position (0,8) :1\n",
    " | |O\n",
    "--------------\n",
    " | | \n",
    "--------------\n",
    "X| | \n",
    "Enter the position (0,8) :3\n",
    " | |O\n",
    "--------------\n",
    " | | \n",
    "--------------\n",
    "X| |O\n",
    "Enter the position (0,8) :3\n",
    "Enter the position (0,8) :2\n",
    " | |O"
   ]
  },
  {
   "cell_type": "code",
   "execution_count": 11,
   "metadata": {},
   "outputs": [],
   "source": [
    "def play_again():\n",
    "    return input('Do you want play again ?').lower().startswith('y')"
   ]
  },
  {
   "cell_type": "code",
   "execution_count": null,
   "metadata": {},
   "outputs": [],
   "source": [
    "play_again()"
   ]
  },
  {
   "cell_type": "markdown",
   "metadata": {},
   "source": [
    "# Final Assembling"
   ]
  },
  {
   "cell_type": "code",
   "execution_count": 16,
   "metadata": {},
   "outputs": [
    {
     "name": "stdout",
     "output_type": "stream",
     "text": [
      "Welcome to Ram's Tic Tac Toe \n",
      "player one : Please enter your marker X or OX\n",
      "Player 2 Will go first in this game\n",
      "Are you ready ? Yes or NoY\n",
      " | | \n",
      "--------------\n",
      " | | \n",
      "--------------\n",
      " | | \n",
      "Enter the position (0,8) :9\n",
      " | |O\n",
      "--------------\n",
      " | | \n",
      "--------------\n",
      " | | \n",
      "Enter the position (0,8) :1\n",
      " | |O\n",
      "--------------\n",
      " | | \n",
      "--------------\n",
      "X| | \n",
      "Enter the position (0,8) :3\n",
      " | |O\n",
      "--------------\n",
      " | | \n",
      "--------------\n",
      "X| |O\n",
      "Enter the position (0,8) :3\n",
      "Enter the position (0,8) :2\n",
      " | |O\n",
      "--------------\n",
      " | | \n",
      "--------------\n",
      "X|X|O\n",
      "Enter the position (0,8) :6\n",
      " | |O\n",
      "--------------\n",
      " | |O\n",
      "--------------\n",
      "X|X|O\n",
      "Congrats! player 2 have  Won the Game!\n",
      "Do you want play again ?4\n"
     ]
    }
   ],
   "source": [
    "print(\"Welcome to Ram's Tic Tac Toe \")\n",
    "\n",
    "while True: \n",
    "    newBoard = [' ']*10\n",
    "    player1_marker,player2_marker = player_input()\n",
    "    turn = choose_first()\n",
    "    print(turn+ ' Will go first in this game')\n",
    "    \n",
    "    play_game = input(\"Are you ready ? Yes or No\")\n",
    "    \n",
    "    if play_game.lower()[0]=='y':\n",
    "        game_on = True\n",
    "    else: \n",
    "        game_on = False\n",
    "        \n",
    "    while game_on: \n",
    "        if turn == 'Player 1':\n",
    "            display_board(newBoard)\n",
    "            position = next_player_choice(newBoard)\n",
    "            place_marker(newBoard,player1_marker, position)\n",
    "            \n",
    "            if win_check(newBoard,player1_marker):\n",
    "                display_board(newBoard)\n",
    "                print('Congrats! Player 1 have  Won the Game!')\n",
    "                game_on=False\n",
    "            else:\n",
    "                if full_board_check(newBoard):\n",
    "                    display_board(newBoard)\n",
    "                    print('Game has been drawn')\n",
    "                    break\n",
    "                else:\n",
    "                    turn = 'Player 2'\n",
    "        else:\n",
    "            display_board(newBoard)\n",
    "            position = next_player_choice(newBoard)\n",
    "            place_marker(newBoard,player2_marker, position)\n",
    "            \n",
    "            if win_check(newBoard,player2_marker):\n",
    "                display_board(newBoard)\n",
    "                print('Congrats! player 2 have  Won the Game!')\n",
    "                game_on=False\n",
    "            else:\n",
    "                if full_board_check(newBoard):\n",
    "                    display_board(newBoard)\n",
    "                    print('Game has been drawn')\n",
    "                    break\n",
    "                else:\n",
    "                    turn = 'Player 1'\n",
    "                    \n",
    "    if not playagain():\n",
    "        break\n",
    "            "
   ]
  },
  {
   "cell_type": "markdown",
   "metadata": {},
   "source": [
    "###### "
   ]
  }
 ],
 "metadata": {
  "kernelspec": {
   "display_name": "Python 3",
   "language": "python",
   "name": "python3"
  },
  "language_info": {
   "codemirror_mode": {
    "name": "ipython",
    "version": 3
   },
   "file_extension": ".py",
   "mimetype": "text/x-python",
   "name": "python",
   "nbconvert_exporter": "python",
   "pygments_lexer": "ipython3",
   "version": "3.7.1"
  }
 },
 "nbformat": 4,
 "nbformat_minor": 2
}
